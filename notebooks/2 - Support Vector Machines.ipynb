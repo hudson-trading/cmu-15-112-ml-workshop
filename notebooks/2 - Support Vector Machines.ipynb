{
 "cells": [
  {
   "cell_type": "code",
   "execution_count": null,
   "metadata": {},
   "outputs": [],
   "source": [
    "# This is just a preamble that sets a bunch of options up.\n",
    "%matplotlib inline\n",
    "\n",
    "import pandas as pd\n",
    "import numpy as np\n",
    "import matplotlib.pyplot as plt\n",
    "\n",
    "# Make graphs a little prettier\n",
    "plt.style.use('ggplot')\n",
    "plt.rcParams['figure.figsize'] = (15, 5)"
   ]
  },
  {
   "cell_type": "code",
   "execution_count": null,
   "metadata": {},
   "outputs": [],
   "source": [
    "# \"Svm separating hyperplanes (SVG)\" by User:ZackWeinberg, based on PNG version by User:Cyc\n",
    "# This file was derived from:  Svm separating hyperplanes.png.\n",
    "# Licensed under CC BY-SA 3.0 via Commons\n",
    "# https://commons.wikimedia.org/wiki/File:Svm_separating_hyperplanes_(SVG).svg#/media/File:Svm_separating_hyperplanes_(SVG).svg\n",
    "\n",
    "from IPython.display import Image\n",
    "Image(filename='../data/svm.png', width=500)"
   ]
  },
  {
   "cell_type": "code",
   "execution_count": null,
   "metadata": {},
   "outputs": [],
   "source": [
    "dataset = pd.read_csv('../data/01_heights_weights_genders.csv')\n",
    "print(dataset.head())"
   ]
  },
  {
   "cell_type": "code",
   "execution_count": null,
   "metadata": {},
   "outputs": [],
   "source": [
    "# Add labels to our axes\n",
    "plt.xlabel('Height (in)')\n",
    "plt.ylabel('Weight (lb)')\n",
    "\n",
    "# Females\n",
    "females = dataset[dataset['Gender'] == 'Female']\n",
    "plt.plot(females['Height'], females['Weight'], '.', markersize=3, color='red')\n",
    "\n",
    "# Males\n",
    "males = dataset[dataset['Gender'] == 'Male']\n",
    "plt.plot(males['Height'], males['Weight'], '.', markersize=3, color='blue')"
   ]
  },
  {
   "cell_type": "code",
   "execution_count": null,
   "metadata": {},
   "outputs": [],
   "source": [
    "from sklearn.model_selection import train_test_split\n",
    "\n",
    "# Split our dataset into 2 parts - 70% for training and 30% for testing\n",
    "train, test = train_test_split(dataset, test_size=0.3)"
   ]
  },
  {
   "cell_type": "code",
   "execution_count": null,
   "metadata": {},
   "outputs": [],
   "source": [
    "from sklearn import svm\n",
    "\n",
    "# Train the classifier using fit()\n",
    "clf = svm.SVC(kernel='linear')\n",
    "clf.fit(train[['Height', 'Weight']], pd.Categorical(train['Gender']).codes)"
   ]
  },
  {
   "cell_type": "code",
   "execution_count": null,
   "metadata": {},
   "outputs": [],
   "source": [
    "plt.xlim(50, 80)\n",
    "plt.ylim(50, 300)\n",
    "plt.xlabel('Height (in)')\n",
    "plt.ylabel('Weight (lb)')\n",
    "\n",
    "height, weight = np.meshgrid(np.arange(50, 90, 1), np.arange(50, 300, 1))\n",
    "\n",
    "gender = clf.predict(np.c_[height.ravel(), weight.ravel()])\n",
    "gender = gender.reshape(height.shape)\n",
    "cs = plt.contourf(height, weight, gender, len(train['Gender'].unique()), cmap=plt.cm.Paired,\n",
    "                  alpha=0.8)\n",
    "\n",
    "# Females\n",
    "plt.plot(females['Height'], females['Weight'], '.', markersize=3, color='red')\n",
    "\n",
    "# Males\n",
    "plt.plot(males['Height'], males['Weight'], '.', markersize=3, color='blue')"
   ]
  },
  {
   "cell_type": "code",
   "execution_count": null,
   "metadata": {},
   "outputs": [],
   "source": [
    "# Let's predict someone's gender!\n",
    "gender = clf.predict([[78, 205]])\n",
    "\n",
    "print('Female' if gender == 0 else 'Male')"
   ]
  },
  {
   "cell_type": "code",
   "execution_count": null,
   "metadata": {},
   "outputs": [],
   "source": [
    "# See how well we are classifying using score()\n",
    "clf.score(test[['Height', 'Weight']], pd.Categorical(test['Gender']).codes)"
   ]
  }
 ],
 "metadata": {
  "kernelspec": {
   "display_name": "Python 3",
   "language": "python",
   "name": "python3"
  },
  "language_info": {
   "codemirror_mode": {
    "name": "ipython",
    "version": 3
   },
   "file_extension": ".py",
   "mimetype": "text/x-python",
   "name": "python",
   "nbconvert_exporter": "python",
   "pygments_lexer": "ipython3",
   "version": "3.7.2"
  }
 },
 "nbformat": 4,
 "nbformat_minor": 1
}
