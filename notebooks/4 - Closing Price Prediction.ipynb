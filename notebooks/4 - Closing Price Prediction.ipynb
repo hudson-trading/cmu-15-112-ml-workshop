{
 "cells": [
  {
   "cell_type": "code",
   "execution_count": null,
   "metadata": {
    "collapsed": false
   },
   "outputs": [],
   "source": [
    "# This is just a preamble that sets a bunch of options up.\n",
    "\n",
    "# render graphs inline\n",
    "%matplotlib inline\n",
    "\n",
    "import matplotlib\n",
    "\n",
    "import numpy as np\n",
    "import matplotlib.pyplot as plt\n",
    "\n",
    "matplotlib.style.use('ggplot')\n",
    "plt.rcParams['figure.figsize'] = (15, 5)"
   ]
  },
  {
   "cell_type": "code",
   "execution_count": null,
   "metadata": {
    "collapsed": true
   },
   "outputs": [],
   "source": [
    "path = '../data/GLD.quotes.csv'"
   ]
  },
  {
   "cell_type": "markdown",
   "metadata": {},
   "source": [
    "### First, we have to be able to work with our data"
   ]
  },
  {
   "cell_type": "code",
   "execution_count": null,
   "metadata": {
    "collapsed": false
   },
   "outputs": [],
   "source": [
    "import pandas as pd\n",
    "\n",
    "pd.set_option('precision', 5)\n",
    "pd.set_option('display.float_format', lambda x: '%.3f' % x)\n",
    "\n",
    "dataset = pd.read_csv(path)\n",
    "dataset.head()"
   ]
  },
  {
   "cell_type": "code",
   "execution_count": null,
   "metadata": {
    "collapsed": false,
    "scrolled": true
   },
   "outputs": [],
   "source": [
    "# We can manipulate the data!\n",
    "dataset['range'] = dataset['high'] - dataset['low']\n",
    "dataset.head()"
   ]
  },
  {
   "cell_type": "code",
   "execution_count": null,
   "metadata": {
    "collapsed": false
   },
   "outputs": [],
   "source": [
    "# Sort by date\n",
    "df = dataset[1:].copy() # Drop today's date because the format is off\n",
    "df.date = pd.to_datetime(df.date, format='%Y/%m/%d')\n",
    "df.set_index('date', inplace=True)\n",
    "df.sort_index(inplace=True)\n",
    "df.head()"
   ]
  },
  {
   "cell_type": "code",
   "execution_count": null,
   "metadata": {
    "collapsed": true
   },
   "outputs": [],
   "source": [
    "# Make sure everything is a number!\n",
    "for c in df.columns:\n",
    "    df[c] = df[c].astype(float)"
   ]
  },
  {
   "cell_type": "code",
   "execution_count": null,
   "metadata": {
    "collapsed": false
   },
   "outputs": [],
   "source": [
    "# Feature Scale Volume!\n",
    "df['volume(MM)'] = df['volume'] / 1000000\n",
    "df.drop('volume', inplace=True, axis='columns')\n",
    "df.head()"
   ]
  },
  {
   "cell_type": "code",
   "execution_count": null,
   "metadata": {
    "collapsed": false
   },
   "outputs": [],
   "source": [
    "# What does the volume look like?\n",
    "df['volume(MM)'].plot()"
   ]
  },
  {
   "cell_type": "markdown",
   "metadata": {},
   "source": [
    "## Plot prices!"
   ]
  },
  {
   "cell_type": "code",
   "execution_count": null,
   "metadata": {
    "collapsed": false
   },
   "outputs": [],
   "source": [
    "dataset[['open', 'close', 'high', 'low']].plot()"
   ]
  },
  {
   "cell_type": "markdown",
   "metadata": {},
   "source": [
    "# Let's try some simple predictions using ML!"
   ]
  },
  {
   "cell_type": "code",
   "execution_count": null,
   "metadata": {
    "collapsed": false
   },
   "outputs": [],
   "source": [
    "# split columns into two sets. \n",
    "# Explanatory variables, X. Dependent Variable, Y\n",
    "\n",
    "indeps = ['volume(MM)', 'open', 'high', 'low']\n",
    "dep = 'close'\n",
    "\n",
    "X = df[indeps]\n",
    "Y = df[dep]\n",
    "\n",
    "display(X.head())\n",
    "display(Y.head())"
   ]
  },
  {
   "cell_type": "code",
   "execution_count": null,
   "metadata": {
    "collapsed": false
   },
   "outputs": [],
   "source": [
    "# Split the data into training and test sets\n",
    "from sklearn.model_selection import train_test_split\n",
    "\n",
    "train, test = train_test_split(df, train_size=0.8)"
   ]
  },
  {
   "cell_type": "code",
   "execution_count": null,
   "metadata": {
    "collapsed": false
   },
   "outputs": [],
   "source": [
    "test.head()"
   ]
  },
  {
   "cell_type": "code",
   "execution_count": null,
   "metadata": {
    "collapsed": true
   },
   "outputs": [],
   "source": [
    "prep_data = lambda df: (df[indeps], df[dep])\n",
    "train_X, train_Y = prep_data(train)\n",
    "test_X, test_Y = prep_data(test)"
   ]
  },
  {
   "cell_type": "code",
   "execution_count": null,
   "metadata": {
    "collapsed": true
   },
   "outputs": [],
   "source": [
    "# Import the algorithm!\n",
    "from sklearn.linear_model import LinearRegression"
   ]
  },
  {
   "cell_type": "code",
   "execution_count": null,
   "metadata": {
    "collapsed": false
   },
   "outputs": [],
   "source": [
    "# 1. Create the model\n",
    "model = LinearRegression()\n",
    "\n",
    "# 2. Fit the model\n",
    "model.fit(train_X, train_Y)\n",
    "\n",
    "\n",
    "# 3. Test it!\n",
    "print(model.score(train_X, train_Y))\n",
    "print(model.score(test_X, test_Y))"
   ]
  },
  {
   "cell_type": "markdown",
   "metadata": {},
   "source": [
    "## How does the machine predict?"
   ]
  },
  {
   "cell_type": "code",
   "execution_count": null,
   "metadata": {
    "collapsed": false
   },
   "outputs": [],
   "source": [
    "# Print the model equation\n",
    "\n",
    "coefs = [\"{:.3} * {}\".format(model.coef_[i], c) for i, c in enumerate(indeps)]\n",
    "\n",
    "eq = (\n",
    "    \"close = \" + \n",
    "    ' + '.join(coefs) + \n",
    "    \" +  {}\".format(model.intercept_)\n",
    ")\n",
    "\n",
    "print(\"Linear regression model:\")\n",
    "print(eq)"
   ]
  },
  {
   "cell_type": "markdown",
   "metadata": {},
   "source": [
    "# Maybe we can use previous days!"
   ]
  },
  {
   "cell_type": "code",
   "execution_count": null,
   "metadata": {
    "collapsed": false
   },
   "outputs": [],
   "source": [
    "days_to_look_back = 5\n",
    "\n",
    "for i in range(1, days_to_look_back + 1):\n",
    "    df[\"close-{}\".format(i)] = df['close'].shift(i)\n",
    "\n",
    "df.head()"
   ]
  },
  {
   "cell_type": "code",
   "execution_count": null,
   "metadata": {
    "collapsed": false
   },
   "outputs": [],
   "source": [
    "# Drop NaN's\n",
    "df.dropna(inplace=True)\n",
    "df.head()"
   ]
  },
  {
   "cell_type": "code",
   "execution_count": null,
   "metadata": {
    "collapsed": false
   },
   "outputs": [],
   "source": [
    "# Split the data into training and test sets\n",
    "\n",
    "indeps = [c for c in df.columns if c.startswith(\"close-\")]\n",
    "train, test = train_test_split(df, train_size=0.8)\n",
    "X2, Y2 = prep_data(train)\n",
    "X3, Y3 = prep_data(test)\n",
    "\n",
    "print('Train size:', len(X2.shape))\n",
    "print('Test size:', len(X3.shape))\n",
    "\n",
    "model2 = LinearRegression()\n",
    "model2.fit(X2, Y2)"
   ]
  },
  {
   "cell_type": "code",
   "execution_count": null,
   "metadata": {
    "collapsed": false
   },
   "outputs": [],
   "source": [
    "# Scatter the actual prices vs. predicted prices\n",
    "\n",
    "Y3_pred = model2.predict(X3)\n",
    "plt.scatter(x = Y3_pred, y = Y3, c = 'r')\n",
    "plt.xlabel(\"Prediction\")\n",
    "plt.ylabel(\"Actual\")\n",
    "plt.show()"
   ]
  },
  {
   "cell_type": "code",
   "execution_count": null,
   "metadata": {
    "collapsed": false,
    "scrolled": true
   },
   "outputs": [],
   "source": [
    "print(model2.score(X2, Y2))\n",
    "print(model2.score(X3, Y3))"
   ]
  },
  {
   "cell_type": "markdown",
   "metadata": {},
   "source": [
    "# Which days are smart investments?"
   ]
  },
  {
   "cell_type": "code",
   "execution_count": null,
   "metadata": {
    "collapsed": true
   },
   "outputs": [],
   "source": [
    "# What are returns?\n",
    "df['return'] = (df['close'] - df['open'])/df['open']"
   ]
  },
  {
   "cell_type": "code",
   "execution_count": null,
   "metadata": {
    "collapsed": false
   },
   "outputs": [],
   "source": [
    "# Define previous day open-to-close returns\n",
    "\n",
    "days_to_look_back = 5\n",
    "prev_return = df['return']\n",
    "\n",
    "for i in range(1, days_to_look_back + 1):\n",
    "    prev_return = df['return'].shift(i)\n",
    "    df['prev_return_%d' % i] = prev_return\n",
    "df.dropna(inplace=True)\n",
    "print(df.head())"
   ]
  },
  {
   "cell_type": "code",
   "execution_count": null,
   "metadata": {
    "collapsed": false
   },
   "outputs": [],
   "source": [
    "# Train a model for today's return based on previous day returns\n",
    "\n",
    "X = df[['prev_return_%d' % i for i in range(1, days_to_look_back + 1)]]\n",
    "Y = df['return']\n",
    "\n",
    "train_len = int(float(len(df)) * 0.8)\n",
    "\n",
    "X_train = X[:train_len]\n",
    "Y_train = Y[:train_len]\n",
    "X_test = X[train_len:]\n",
    "Y_test = Y[train_len:]\n",
    "\n",
    "print('Train size:', len(X_train))\n",
    "print('Test size:', len(X_test))\n",
    "\n",
    "model = LinearRegression()\n",
    "model.fit(X_train, Y_train)"
   ]
  },
  {
   "cell_type": "code",
   "execution_count": null,
   "metadata": {
    "collapsed": false,
    "scrolled": true
   },
   "outputs": [],
   "source": [
    "print(model.score(X_train, Y_train))\n",
    "print(model.score(X_test, Y_test))"
   ]
  },
  {
   "cell_type": "code",
   "execution_count": null,
   "metadata": {
    "collapsed": false
   },
   "outputs": [],
   "source": [
    "# Scatter the actual returns vs. predicted returns\n",
    "Y_pred = model.predict(X_test)\n",
    "Y_pred = pd.Series(Y_pred, index = Y_test.index)\n",
    "plt.scatter(x=Y_pred, y=Y_test, c='r')\n",
    "plt.xlabel(\"Predicted\")\n",
    "plt.ylabel(\"Actual\")\n",
    "plt.show()"
   ]
  },
  {
   "cell_type": "code",
   "execution_count": null,
   "metadata": {
    "collapsed": false,
    "scrolled": true
   },
   "outputs": [],
   "source": [
    "df['return'].plot()"
   ]
  },
  {
   "cell_type": "code",
   "execution_count": null,
   "metadata": {
    "collapsed": false
   },
   "outputs": [],
   "source": [
    "df['close'].plot()"
   ]
  },
  {
   "cell_type": "markdown",
   "metadata": {
    "collapsed": true
   },
   "source": [
    "## What have we learned?"
   ]
  }
 ],
 "metadata": {
  "kernelspec": {
   "display_name": "Python 2",
   "language": "python",
   "name": "python2"
  },
  "language_info": {
   "codemirror_mode": {
    "name": "ipython",
    "version": 2
   },
   "file_extension": ".py",
   "mimetype": "text/x-python",
   "name": "python",
   "nbconvert_exporter": "python",
   "pygments_lexer": "ipython2",
   "version": "2.7.14"
  }
 },
 "nbformat": 4,
 "nbformat_minor": 1
}
