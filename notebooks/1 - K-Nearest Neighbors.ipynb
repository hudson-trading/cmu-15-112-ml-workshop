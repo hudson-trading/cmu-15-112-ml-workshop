{
 "cells": [
  {
   "cell_type": "code",
   "execution_count": null,
   "metadata": {},
   "outputs": [],
   "source": [
    "# This is just a preamble that sets a bunch of options up.\n",
    "%matplotlib inline\n",
    "\n",
    "import pandas as pd\n",
    "import numpy as np\n",
    "import matplotlib.pyplot as plt\n",
    "\n",
    "# Make graphs a little prettier\n",
    "plt.style.use('ggplot')\n",
    "plt.rcParams['figure.figsize'] = (5, 5)"
   ]
  },
  {
   "cell_type": "code",
   "execution_count": null,
   "metadata": {},
   "outputs": [],
   "source": [
    "data = []\n",
    "for i in range(0, 100):\n",
    "    for j in range(0, 100):\n",
    "        data.append([i, j])\n",
    "\n",
    "df = pd.DataFrame(data, columns=['x', 'y'])\n",
    "df['color'] = 'yellow'\n",
    "\n",
    "# Abracadabra\n",
    "idx = ((df['x'] - 30)**2 + (df['y'] - 80)**2 <= 100)\n",
    "df['color'] = np.where(idx, 'black', 'yellow')\n",
    "\n",
    "# Bibbidi-Bobbidi-Boo\n",
    "idx = ((df['x'] - 70)**2 + (df['y'] - 80)**2 <= 100)\n",
    "df['color'] = np.where(df['color']!='black', np.where(idx, 'black', 'yellow'), df['color'])\n",
    "\n",
    "# Wingardium Leviosa\n",
    "idx = ((df['x'] - 50)**2 + (df['y'] - 40)**2 <= 1000)\n",
    "idx = idx & (df['y'] < 40)\n",
    "\n",
    "df['color'] = np.where(df['color']!='black', np.where(idx, 'black', 'yellow'), df['color'])\n",
    "\n",
    "print(df.head())"
   ]
  },
  {
   "cell_type": "code",
   "execution_count": null,
   "metadata": {},
   "outputs": [],
   "source": [
    "for color in ['yellow', 'black']:\n",
    "    plt.scatter(df[df.color==color].x, df[df.color==color].y,\n",
    "                c=color, marker=',', edgecolors='none')\n",
    "\n",
    "plt.show()"
   ]
  },
  {
   "cell_type": "code",
   "execution_count": null,
   "metadata": {},
   "outputs": [],
   "source": [
    "# First, let's create our train and test sets.\n",
    "from sklearn.model_selection import train_test_split\n",
    "\n",
    "train, test = train_test_split(df, test_size=0.5)\n",
    "\n",
    "# Here's how the train set looks like now\n",
    "for color in ['yellow', 'black']:\n",
    "    plt.scatter(train[train.color == color].x,\n",
    "                train[train.color == color].y,\n",
    "                c=color, marker=',', edgecolors='none')\n",
    "plt.show()"
   ]
  },
  {
   "cell_type": "code",
   "execution_count": null,
   "metadata": {},
   "outputs": [],
   "source": [
    "# Just to make sure no one's cheating, let's get rid of the color\n",
    "# field in the test set.\n",
    "test['color'] = ''\n",
    "\n",
    "print(test.head())"
   ]
  },
  {
   "cell_type": "code",
   "execution_count": null,
   "metadata": {},
   "outputs": [],
   "source": [
    "# Now, can we figure out what the original image should look like?\n",
    "\n",
    "# 1) Import the right classifier\n",
    "from sklearn.neighbors import KNeighborsClassifier\n",
    "\n",
    "# 2) Train the classifier using fit()\n",
    "clf = KNeighborsClassifier()\n",
    "clf.fit(train[['x', 'y']], train['color'])\n",
    "\n",
    "# 3) Now, we can make predictions using predict()\n",
    "test.color = clf.predict(test[['x', 'y']])\n",
    "\n",
    "print(test.head())"
   ]
  },
  {
   "cell_type": "code",
   "execution_count": null,
   "metadata": {},
   "outputs": [],
   "source": [
    "for color in ['yellow', 'black']:\n",
    "    plt.scatter(train[train.color == color].x,\n",
    "                train[train.color == color].y,\n",
    "                c=color, marker=',', edgecolors='none')\n",
    "\n",
    "for color in ['yellow', 'black']:\n",
    "    plt.scatter(test[test.color == color].x,\n",
    "                test[test.color == color].y,\n",
    "                c=color, marker=',', edgecolors='none')\n",
    "\n",
    "plt.show()"
   ]
  },
  {
   "cell_type": "code",
   "execution_count": null,
   "metadata": {},
   "outputs": [],
   "source": [
    "# This example adapted from http://blog.yhat.com/posts/classification-using-knn-and-python.html"
   ]
  }
 ],
 "metadata": {
  "kernelspec": {
   "display_name": "Python 3",
   "language": "python",
   "name": "python3"
  },
  "language_info": {
   "codemirror_mode": {
    "name": "ipython",
    "version": 3
   },
   "file_extension": ".py",
   "mimetype": "text/x-python",
   "name": "python",
   "nbconvert_exporter": "python",
   "pygments_lexer": "ipython3",
   "version": "3.7.2"
  }
 },
 "nbformat": 4,
 "nbformat_minor": 1
}
